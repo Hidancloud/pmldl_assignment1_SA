{
  "nbformat": 4,
  "nbformat_minor": 0,
  "metadata": {
    "colab": {
      "name": "first_task.ipynb",
      "provenance": []
    },
    "kernelspec": {
      "name": "python3",
      "display_name": "Python 3"
    }
  },
  "cells": [
    {
      "cell_type": "code",
      "metadata": {
        "id": "wFUmErhQY0gC",
        "colab_type": "code",
        "colab": {}
      },
      "source": [
        "import matplotlib.pyplot as plt\n",
        "from sklearn import datasets\n",
        "from sklearn.model_selection import train_test_split\n",
        "from keras.utils import to_categorical\n",
        "import numpy as np"
      ],
      "execution_count": 0,
      "outputs": []
    },
    {
      "cell_type": "markdown",
      "metadata": {
        "id": "9kY1jwY8hc7L",
        "colab_type": "text"
      },
      "source": [
        "**Downloading the dataset**"
      ]
    },
    {
      "cell_type": "code",
      "metadata": {
        "id": "_tSCX-9ZY7N_",
        "colab_type": "code",
        "colab": {}
      },
      "source": [
        "iris = datasets.load_iris()\n",
        "ratio_train = 0.8\n",
        "train_samples = int(len(iris.data) * ratio_train)\n",
        "X = iris.data\n",
        "y = to_categorical(iris.target)  # one-hot-encoding for dataset\n",
        "x_train,  x_test, y_train, y_test = train_test_split(X, y, test_size=0.2)"
      ],
      "execution_count": 0,
      "outputs": []
    },
    {
      "cell_type": "markdown",
      "metadata": {
        "id": "XGAlCkgQh6y3",
        "colab_type": "text"
      },
      "source": [
        "**Defining network layers parameters**"
      ]
    },
    {
      "cell_type": "code",
      "metadata": {
        "id": "QYat8ozIPhEo",
        "colab_type": "code",
        "colab": {}
      },
      "source": [
        "input_size = x_train.shape[1]\n",
        "first_layer_units = 8\n",
        "second_layer_units = 8\n",
        "number_of_classes = y_train[0].shape[0] "
      ],
      "execution_count": 0,
      "outputs": []
    },
    {
      "cell_type": "code",
      "metadata": {
        "id": "y79s1ceLPQvp",
        "colab_type": "code",
        "colab": {}
      },
      "source": [
        "from keras.models import Sequential\n",
        "from keras import models\n",
        "from keras.layers import Dense, Activation\n",
        "from keras.optimizers import adam\n",
        "import matplotlib.pyplot as plt\n",
        "import math"
      ],
      "execution_count": 0,
      "outputs": []
    },
    {
      "cell_type": "markdown",
      "metadata": {
        "id": "-HhoAXX0iWu7",
        "colab_type": "text"
      },
      "source": [
        "**Defining the neural network**"
      ]
    },
    {
      "cell_type": "code",
      "metadata": {
        "id": "SfJQiX7KPTqx",
        "colab_type": "code",
        "colab": {}
      },
      "source": [
        "def model():\n",
        "    model = Sequential()\n",
        "    model.add(Dense(units=first_layer_units, input_dim=input_size, activation='relu', name=\"first\"))\n",
        "    model.add(Dense(units=second_layer_units, input_dim=first_layer_units, activation='sigmoid', name=\"second\"))\n",
        "    model.add(Dense(units=3, activation='softmax', name=\"last\"))\n",
        "\n",
        "    adam_optimizer = adam(lr=.001)\n",
        "\n",
        "    model.compile(optimizer=adam_optimizer, loss='binary_crossentropy',\n",
        "                  metrics=['accuracy'])\n",
        "    return model\n"
      ],
      "execution_count": 0,
      "outputs": []
    },
    {
      "cell_type": "code",
      "metadata": {
        "id": "zEgzRKLMfNIX",
        "colab_type": "code",
        "colab": {}
      },
      "source": [
        "model = model()\n",
        "T = 3  # initial temperature\n",
        "T_cold = 1e-12  # temperature after which the sa will stop\n",
        "a1 = 0.8  # first coefficient (T*a1 when T >= 0.08) \n",
        "a2 = 0.85  # second (T*a2 when T >= 0.02)\n",
        "a3 = 0.85  # third (else)\n",
        "iters_number = 40  # after this number of iterations process will stop  "
      ],
      "execution_count": 0,
      "outputs": []
    },
    {
      "cell_type": "markdown",
      "metadata": {
        "id": "SL--CjbozKtd",
        "colab_type": "text"
      },
      "source": [
        "**Implementation of SA for the neural network weights**"
      ]
    },
    {
      "cell_type": "code",
      "metadata": {
        "id": "_2WGLOcFFYMd",
        "colab_type": "code",
        "outputId": "31aad866-d8be-4f6b-d028-562b384f33e5",
        "colab": {
          "base_uri": "https://localhost:8080/",
          "height": 1000
        }
      },
      "source": [
        "def P_star(new_loss, old_loss, T):\n",
        "  ### energy function that is p*(x) in the task\n",
        "  return math.exp((old_loss - new_loss)/T)\n",
        "\n",
        "\n",
        "def init_model_weights(model):\n",
        "  ### model initialization with random weights with mean 0 and std 1\n",
        "  for i in range(len(model.layers)):\n",
        "    layer = list()\n",
        "    weights = np.array(model.layers[i].get_weights()[0])\n",
        "    bias = np.array(model.layers[i].get_weights()[1])\n",
        "    layer = [np.random.randn(*weights.shape), np.random.randn(*bias.shape)]\n",
        "    if len(layer) > 0:\n",
        "      model.layers[i].set_weights(layer)\n",
        "  return model\n",
        "\n",
        "\n",
        "def simulated_annealing(model, T_cold=1e-6, iters_number=20, T=2, a1=0.8, a2=0.85, a3=0.9):\n",
        "  ### sa method implementation for optimizing defined neural network weights\n",
        "  ### for the iris dataset classification task\n",
        "  iters = iters_number\n",
        "  loss, acc = model.evaluate(x_train, y_train)\n",
        "  loss_history = list()\n",
        "  acc_history = list()\n",
        "  while T > T_cold and iters > 0:\n",
        "    model_copy = models.clone_model(model)\n",
        "    model_copy.set_weights(model.get_weights())\n",
        "    for i in range(len(model.layers)):\n",
        "      rand_step = list()\n",
        "      weights = np.array(model.layers[i].get_weights()[0])\n",
        "      bias = np.array(model.layers[i].get_weights()[1])\n",
        "      rand_step = [np.random.randn(*weights.shape), np.random.randn(*bias.shape)]\n",
        "      model_copy.layers[i].set_weights([weights + rand_step[0], bias + rand_step[1]])\n",
        "    model_copy.build((None, 4)) \n",
        "    model_copy.compile(optimizer=adam(lr=0.01), loss='binary_crossentropy', metrics=['accuracy'])\n",
        "    new_loss, new_acc = model_copy.evaluate(x_train, y_train)\n",
        "    old_loss, old_acc = loss, acc\n",
        "    u = np.random.rand()\n",
        "    loss, acc = -1, -1\n",
        "    if u < P_star(new_loss, old_loss, T):\n",
        "      if new_loss > old_loss:\n",
        "        print(\"u = {0} < {1} = P, new - old = {2}\".format(u, P_star(new_loss, old_loss, T), new_loss-old_loss))\n",
        "      model = model_copy\n",
        "      loss = new_loss\n",
        "      acc = new_acc\n",
        "    else:\n",
        "      loss = old_loss\n",
        "      acc = old_acc\n",
        "    loss_history.append(loss)\n",
        "    acc_history.append(acc)\n",
        "    print(\"loss = {0}, current temp = {1}, iteration {2}\".format(loss, T, iters_number - iters))\n",
        "    if T > 0.08: \n",
        "      T *= a1\n",
        "    elif T > 0.02:\n",
        "      T *= a2\n",
        "    else:\n",
        "      T *= a3\n",
        "    iters -= 1\n",
        "  return model, loss_history, acc_history, T\n",
        "\n",
        "model = init_model_weights(model)\n",
        "model, loss_history, acc_history, T = simulated_annealing(model, T_cold, iters_number, T, a1, a2, a3)"
      ],
      "execution_count": 30,
      "outputs": [
        {
          "output_type": "stream",
          "text": [
            "120/120 [==============================] - 1s 5ms/step\n",
            "120/120 [==============================] - 1s 12ms/step\n",
            "u = 0.22665040991463692 < 0.8732848476179107 = P, new - old = 0.4064804712931316\n",
            "loss = 1.3829103549321493, current temp = 3, iteration 0\n",
            "120/120 [==============================] - 1s 12ms/step\n",
            "loss = 1.3829103549321493, current temp = 2.4000000000000004, iteration 1\n",
            "120/120 [==============================] - 1s 12ms/step\n",
            "u = 0.22356997148418112 < 0.8721948985989026 = P, new - old = 0.26254535516103106\n",
            "loss = 1.6454557100931804, current temp = 1.9200000000000004, iteration 2\n",
            "120/120 [==============================] - 1s 12ms/step\n",
            "loss = 1.2333523670832316, current temp = 1.5360000000000005, iteration 3\n",
            "120/120 [==============================] - 2s 13ms/step\n",
            "loss = 1.2333523670832316, current temp = 1.2288000000000006, iteration 4\n",
            "120/120 [==============================] - 1s 12ms/step\n",
            "loss = 1.2333523670832316, current temp = 0.9830400000000005, iteration 5\n",
            "120/120 [==============================] - 1s 12ms/step\n",
            "loss = 0.7297028501828512, current temp = 0.7864320000000005, iteration 6\n",
            "120/120 [==============================] - 1s 12ms/step\n",
            "loss = 0.7297028501828512, current temp = 0.6291456000000004, iteration 7\n",
            "120/120 [==============================] - 2s 13ms/step\n",
            "loss = 0.7297028501828512, current temp = 0.5033164800000004, iteration 8\n",
            "120/120 [==============================] - 2s 13ms/step\n",
            "loss = 0.7297028501828512, current temp = 0.40265318400000033, iteration 9\n",
            "120/120 [==============================] - 2s 13ms/step\n",
            "loss = 0.7297028501828512, current temp = 0.3221225472000003, iteration 10\n",
            "120/120 [==============================] - 2s 14ms/step\n",
            "loss = 0.7297028501828512, current temp = 0.2576980377600002, iteration 11\n",
            "120/120 [==============================] - 2s 14ms/step\n",
            "u = 0.32365394516147983 < 0.5550294006082642 = P, new - old = 0.12137251694997153\n",
            "loss = 0.8510753671328227, current temp = 0.20615843020800018, iteration 12\n",
            "120/120 [==============================] - 2s 14ms/step\n",
            "loss = 0.8510753671328227, current temp = 0.16492674416640016, iteration 13\n",
            "120/120 [==============================] - 2s 15ms/step\n",
            "u = 0.22831965247837338 < 0.39653420022347885 = P, new - old = 0.12204486529032388\n",
            "loss = 0.9731202324231466, current temp = 0.13194139533312013, iteration 14\n",
            "120/120 [==============================] - 2s 15ms/step\n",
            "loss = 0.9731202324231466, current temp = 0.1055531162664961, iteration 15\n",
            "120/120 [==============================] - 2s 14ms/step\n",
            "loss = 0.41177869637807213, current temp = 0.0844424930131969, iteration 16\n",
            "120/120 [==============================] - 2s 14ms/step\n",
            "loss = 0.41177869637807213, current temp = 0.06755399441055752, iteration 17\n",
            "120/120 [==============================] - 2s 14ms/step\n",
            "loss = 0.41177869637807213, current temp = 0.0574208952489739, iteration 18\n",
            "120/120 [==============================] - 2s 15ms/step\n",
            "loss = 0.41177869637807213, current temp = 0.04880776096162781, iteration 19\n",
            "120/120 [==============================] - 2s 15ms/step\n",
            "loss = 0.41177869637807213, current temp = 0.04148659681738364, iteration 20\n",
            "120/120 [==============================] - 2s 15ms/step\n",
            "loss = 0.3716932614644369, current temp = 0.035263607294776095, iteration 21\n",
            "120/120 [==============================] - 2s 16ms/step\n",
            "loss = 0.3716932614644369, current temp = 0.02997406620055968, iteration 22\n",
            "120/120 [==============================] - 2s 17ms/step\n",
            "loss = 0.3716932614644369, current temp = 0.025477956270475728, iteration 23\n",
            "120/120 [==============================] - 2s 16ms/step\n",
            "loss = 0.3716932614644369, current temp = 0.02165626282990437, iteration 24\n",
            "120/120 [==============================] - 2s 17ms/step\n",
            "loss = 0.3716932614644369, current temp = 0.018407823405418713, iteration 25\n",
            "120/120 [==============================] - 2s 16ms/step\n",
            "loss = 0.3716932614644369, current temp = 0.015646649894605905, iteration 26\n",
            "120/120 [==============================] - 2s 15ms/step\n",
            "loss = 0.3716932614644369, current temp = 0.013299652410415018, iteration 27\n",
            "120/120 [==============================] - 2s 16ms/step\n",
            "loss = 0.3716932614644369, current temp = 0.011304704548852766, iteration 28\n",
            "120/120 [==============================] - 2s 16ms/step\n",
            "loss = 0.3716932614644369, current temp = 0.00960899886652485, iteration 29\n",
            "120/120 [==============================] - 2s 16ms/step\n",
            "loss = 0.3716932614644369, current temp = 0.008167649036546123, iteration 30\n",
            "120/120 [==============================] - 2s 16ms/step\n",
            "loss = 0.3716932614644369, current temp = 0.006942501681064204, iteration 31\n",
            "120/120 [==============================] - 2s 17ms/step\n",
            "loss = 0.3716932614644369, current temp = 0.005901126428904574, iteration 32\n",
            "120/120 [==============================] - 2s 17ms/step\n",
            "loss = 0.3716932614644369, current temp = 0.005015957464568887, iteration 33\n",
            "120/120 [==============================] - 2s 16ms/step\n",
            "loss = 0.3716932614644369, current temp = 0.004263563844883554, iteration 34\n",
            "120/120 [==============================] - 2s 16ms/step\n",
            "loss = 0.3716932614644369, current temp = 0.003624029268151021, iteration 35\n",
            "120/120 [==============================] - 2s 16ms/step\n",
            "loss = 0.3716932614644369, current temp = 0.0030804248779283676, iteration 36\n",
            "120/120 [==============================] - 2s 17ms/step\n",
            "loss = 0.3716932614644369, current temp = 0.0026183611462391124, iteration 37\n",
            "120/120 [==============================] - 2s 17ms/step\n",
            "loss = 0.3716932614644369, current temp = 0.0022256069743032455, iteration 38\n",
            "120/120 [==============================] - 2s 17ms/step\n",
            "loss = 0.3716932614644369, current temp = 0.0018917659281577587, iteration 39\n"
          ],
          "name": "stdout"
        }
      ]
    },
    {
      "cell_type": "markdown",
      "metadata": {
        "id": "NxLHw2iozUZw",
        "colab_type": "text"
      },
      "source": [
        "**Final performance and history demonstration:**"
      ]
    },
    {
      "cell_type": "code",
      "metadata": {
        "id": "YiqPXvlpHUEa",
        "colab_type": "code",
        "outputId": "7105103c-d737-4877-9b71-27d550836b4b",
        "colab": {
          "base_uri": "https://localhost:8080/",
          "height": 575
        }
      },
      "source": [
        "def round_acc(x):\n",
        "  return round(x, 2) * 100\n",
        "\n",
        "result = model.evaluate(x_test, y_test)\n",
        "print(\"final temperature: {2}, final loss: {0}, final accuracy: {1}%\".format(round(result[0], 4), 100*round(result[1], 4), T))\n",
        "plt.legend(\"Loss progress\")\n",
        "plt.xlabel(\"iterations\")\n",
        "plt.ylabel(\"loss\")\n",
        "plt.xticks(range(0, iters_number, iters_number//10))\n",
        "plt.plot(loss_history)\n",
        "plt.show()\n",
        "\n",
        "plt.legend(\"Accuracy progress\")\n",
        "plt.xlabel(\"iterations\")\n",
        "plt.ylabel(\"accuracy (%)\")\n",
        "plt.xticks(range(0, iters_number, max(1, iters_number//10)))\n",
        "plt.plot(list(map(round_acc, acc_history)))\n",
        "plt.show()"
      ],
      "execution_count": 32,
      "outputs": [
        {
          "output_type": "stream",
          "text": [
            "\r30/30 [==============================] - 0s 136us/step\n",
            "final temperature: 0.0016080010389340948, final loss: 0.3711, final accuracy: 77.78%\n"
          ],
          "name": "stdout"
        },
        {
          "output_type": "display_data",
          "data": {
            "image/png": "[encoded data removed]",
            "text/plain": [
              "<Figure size 432x288 with 1 Axes>"
            ]
          },
          "metadata": {
            "tags": []
          }
        },
        {
          "output_type": "display_data",
          "data": {
            "image/png": "[encoded data removed]",
            "text/plain": [
              "<Figure size 432x288 with 1 Axes>"
            ]
          },
          "metadata": {
            "tags": []
          }
        }
      ]
    }
  ]
}